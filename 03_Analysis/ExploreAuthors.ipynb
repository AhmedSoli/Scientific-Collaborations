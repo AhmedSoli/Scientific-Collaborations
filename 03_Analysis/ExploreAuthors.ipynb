{
 "cells": [
  {
   "cell_type": "code",
   "execution_count": 10,
   "metadata": {},
   "outputs": [],
   "source": [
    "import pandas as pd\n",
    "from IPython.display import display, clear_output"
   ]
  },
  {
   "cell_type": "code",
   "execution_count": null,
   "metadata": {},
   "outputs": [],
   "source": [
    "dp = pd.read_pickle('../00_Data/dblp.pickle')\n",
    "ss = pd.read_pickle('../00_Data/semantic_scholar.pickle')"
   ]
  },
  {
   "cell_type": "code",
   "execution_count": 58,
   "metadata": {},
   "outputs": [
    {
     "name": "stdout",
     "output_type": "stream",
     "text": [
      "9300000\n"
     ]
    }
   ],
   "source": [
    "data = {}\n",
    "\n",
    "for i,paper in dp.iterrows():\n",
    "    authors = paper['author'].split(',')\n",
    "    for author in authors:\n",
    "        author = author.strip()\n",
    "        if author not in data:\n",
    "            data[author] = {\n",
    "                'collaborators': set(),\n",
    "                'num_papers': 0,\n",
    "                'years': set()\n",
    "            }\n",
    "        data[author]['collaborators'].update(set(authors) - set([author]))\n",
    "        data[author]['num_papers'] += 1\n",
    "        data[author]['years'].add(paper['year'])\n",
    "    if i % 50000 == 0:\n",
    "        clear_output(wait=True)\n",
    "        print(i)"
   ]
  },
  {
   "cell_type": "code",
   "execution_count": 64,
   "metadata": {},
   "outputs": [],
   "source": [
    "authors = []\n",
    "for author in data:\n",
    "    authors.append({\n",
    "        'author': author,\n",
    "        'num_unique_collaborators': len(data[author]['collaborators']),\n",
    "        'num_papers': data[author]['num_papers'],\n",
    "        'first_year': min(data[author]['years']),\n",
    "        'last_year': max(data[author]['years']),\n",
    "        'work_age': int(max(data[author]['years'])) - int(min(data[author]['years']))\n",
    "    })\n",
    "\n",
    "authors = pd.DataFrame.from_dict(authors)"
   ]
  },
  {
   "cell_type": "code",
   "execution_count": 66,
   "metadata": {},
   "outputs": [
    {
     "data": {
      "text/html": [
       "<div>\n",
       "<style scoped>\n",
       "    .dataframe tbody tr th:only-of-type {\n",
       "        vertical-align: middle;\n",
       "    }\n",
       "\n",
       "    .dataframe tbody tr th {\n",
       "        vertical-align: top;\n",
       "    }\n",
       "\n",
       "    .dataframe thead th {\n",
       "        text-align: right;\n",
       "    }\n",
       "</style>\n",
       "<table border=\"1\" class=\"dataframe\">\n",
       "  <thead>\n",
       "    <tr style=\"text-align: right;\">\n",
       "      <th></th>\n",
       "      <th>num_papers</th>\n",
       "      <th>num_unique_collaborators</th>\n",
       "      <th>work_age</th>\n",
       "    </tr>\n",
       "  </thead>\n",
       "  <tbody>\n",
       "    <tr>\n",
       "      <th>count</th>\n",
       "      <td>2.326251e+06</td>\n",
       "      <td>2.326251e+06</td>\n",
       "      <td>2.326251e+06</td>\n",
       "    </tr>\n",
       "    <tr>\n",
       "      <th>mean</th>\n",
       "      <td>5.797176e+00</td>\n",
       "      <td>1.138585e+01</td>\n",
       "      <td>3.636700e+00</td>\n",
       "    </tr>\n",
       "    <tr>\n",
       "      <th>std</th>\n",
       "      <td>1.832137e+01</td>\n",
       "      <td>2.693265e+01</td>\n",
       "      <td>6.418023e+00</td>\n",
       "    </tr>\n",
       "    <tr>\n",
       "      <th>min</th>\n",
       "      <td>1.000000e+00</td>\n",
       "      <td>0.000000e+00</td>\n",
       "      <td>0.000000e+00</td>\n",
       "    </tr>\n",
       "    <tr>\n",
       "      <th>25%</th>\n",
       "      <td>1.000000e+00</td>\n",
       "      <td>3.000000e+00</td>\n",
       "      <td>0.000000e+00</td>\n",
       "    </tr>\n",
       "    <tr>\n",
       "      <th>50%</th>\n",
       "      <td>2.000000e+00</td>\n",
       "      <td>5.000000e+00</td>\n",
       "      <td>0.000000e+00</td>\n",
       "    </tr>\n",
       "    <tr>\n",
       "      <th>75%</th>\n",
       "      <td>4.000000e+00</td>\n",
       "      <td>1.000000e+01</td>\n",
       "      <td>5.000000e+00</td>\n",
       "    </tr>\n",
       "    <tr>\n",
       "      <th>max</th>\n",
       "      <td>1.703000e+03</td>\n",
       "      <td>3.193000e+03</td>\n",
       "      <td>7.500000e+01</td>\n",
       "    </tr>\n",
       "  </tbody>\n",
       "</table>\n",
       "</div>"
      ],
      "text/plain": [
       "         num_papers  num_unique_collaborators      work_age\n",
       "count  2.326251e+06              2.326251e+06  2.326251e+06\n",
       "mean   5.797176e+00              1.138585e+01  3.636700e+00\n",
       "std    1.832137e+01              2.693265e+01  6.418023e+00\n",
       "min    1.000000e+00              0.000000e+00  0.000000e+00\n",
       "25%    1.000000e+00              3.000000e+00  0.000000e+00\n",
       "50%    2.000000e+00              5.000000e+00  0.000000e+00\n",
       "75%    4.000000e+00              1.000000e+01  5.000000e+00\n",
       "max    1.703000e+03              3.193000e+03  7.500000e+01"
      ]
     },
     "execution_count": 66,
     "metadata": {},
     "output_type": "execute_result"
    }
   ],
   "source": [
    "authors.describe()"
   ]
  },
  {
   "cell_type": "code",
   "execution_count": 67,
   "metadata": {},
   "outputs": [],
   "source": [
    "authors.to_pickle('../00_Data/authors.pickle')"
   ]
  }
 ],
 "metadata": {
  "kernelspec": {
   "display_name": "Python 3",
   "language": "python",
   "name": "python3"
  },
  "language_info": {
   "codemirror_mode": {
    "name": "ipython",
    "version": 3
   },
   "file_extension": ".py",
   "mimetype": "text/x-python",
   "name": "python",
   "nbconvert_exporter": "python",
   "pygments_lexer": "ipython3",
   "version": "3.7.1"
  }
 },
 "nbformat": 4,
 "nbformat_minor": 2
}
