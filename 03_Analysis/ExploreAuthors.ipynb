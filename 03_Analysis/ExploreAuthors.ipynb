{
 "cells": [
  {
   "cell_type": "code",
   "execution_count": 10,
   "metadata": {},
   "outputs": [],
   "source": [
    "import pandas as pd\n",
    "from IPython.display import display, clear_output"
   ]
  },
  {
   "cell_type": "code",
   "execution_count": null,
   "metadata": {},
   "outputs": [],
   "source": [
    "dp = pd.read_pickle('../00_Data/dblp.pickle')\n",
    "ss = pd.read_pickle('../00_Data/semantic_scholar.pickle')"
   ]
  },
  {
   "cell_type": "code",
   "execution_count": null,
   "metadata": {},
   "outputs": [
    {
     "name": "stdout",
     "output_type": "stream",
     "text": [
      "1050000\n"
     ]
    }
   ],
   "source": [
    "collaborations = {}\n",
    "\n",
    "for i,authors in enumerate(dp['author']):\n",
    "    authors = authors.split(',')\n",
    "    for author in authors:\n",
    "        if author not in collaborations:\n",
    "            collaborations[author] = set()\n",
    "        collaborations[author].update(set(authors) - set(author))\n",
    "    if i % 50000 == 0:\n",
    "        clear_output(wait=True)\n",
    "        print(i)"
   ]
  },
  {
   "cell_type": "code",
   "execution_count": null,
   "metadata": {},
   "outputs": [],
   "source": []
  }
 ],
 "metadata": {
  "kernelspec": {
   "display_name": "Python 3",
   "language": "python",
   "name": "python3"
  },
  "language_info": {
   "codemirror_mode": {
    "name": "ipython",
    "version": 3
   },
   "file_extension": ".py",
   "mimetype": "text/x-python",
   "name": "python",
   "nbconvert_exporter": "python",
   "pygments_lexer": "ipython3",
   "version": "3.7.1"
  }
 },
 "nbformat": 4,
 "nbformat_minor": 2
}
