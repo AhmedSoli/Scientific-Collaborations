{
 "cells": [
  {
   "cell_type": "markdown",
   "metadata": {},
   "source": [
    "### Import required libraries"
   ]
  },
  {
   "cell_type": "code",
   "execution_count": 42,
   "metadata": {},
   "outputs": [],
   "source": [
    "import gzip\n",
    "import json\n",
    "import pickle\n",
    "import glob\n",
    "import pandas as pd\n",
    "from multiprocessing import Pool\n",
    "from IPython.display import display, clear_output"
   ]
  },
  {
   "cell_type": "markdown",
   "metadata": {},
   "source": [
    "### Read data and retrieve selected attributes"
   ]
  },
  {
   "cell_type": "code",
   "execution_count": 61,
   "metadata": {},
   "outputs": [],
   "source": [
    "def extract_data(file):\n",
    "    papers = []\n",
    "    for key,paper in enumerate(gzip.open('../00_Data/' + file,'r')):\n",
    "        paper = json.loads(paper)\n",
    "        paper = {\n",
    "            'title': paper.get('title',''),\n",
    "            'authors': \", \".join([author['name'] for author in paper.get('authors',[])]),\n",
    "            'year': paper.get('year',''),\n",
    "            'outCitations': len(paper.get('outCitations',[])),\n",
    "            'inCitations': len(paper.get('inCitations',[])),\n",
    "        }\n",
    "        papers.append(paper)\n",
    "        if key % 10000 == 0 and key != 0 and '44' in file:\n",
    "            clear_output(wait=True)\n",
    "            print(\"Imported: {}\".format(len(papers)-1))\n",
    "    return papers"
   ]
  },
  {
   "cell_type": "code",
   "execution_count": 62,
   "metadata": {},
   "outputs": [
    {
     "name": "stdout",
     "output_type": "stream",
     "text": [
      "Imported: 990000\n"
     ]
    }
   ],
   "source": [
    "files = glob.glob('../00_Data/s2-corpus*')\n",
    "p = Pool(len(files))\n",
    "results = p.map(extract_data, files)\n",
    "p.close()"
   ]
  },
  {
   "cell_type": "code",
   "execution_count": 63,
   "metadata": {},
   "outputs": [],
   "source": [
    "papers = []\n",
    "for result in results:\n",
    "    papers += result"
   ]
  },
  {
   "cell_type": "markdown",
   "metadata": {},
   "source": [
    "### Convert to pandas df and filter rows with missing values"
   ]
  },
  {
   "cell_type": "code",
   "execution_count": null,
   "metadata": {},
   "outputs": [],
   "source": [
    "df = pd.DataFrame.from_dict(papers)\n",
    "df = df[['authors','title','year','outCitations','inCitations']].dropna()\n",
    "\n",
    "df.describe()"
   ]
  },
  {
   "cell_type": "code",
   "execution_count": null,
   "metadata": {},
   "outputs": [],
   "source": []
  }
 ],
 "metadata": {
  "kernelspec": {
   "display_name": "Python 3",
   "language": "python",
   "name": "python3"
  },
  "language_info": {
   "codemirror_mode": {
    "name": "ipython",
    "version": 3
   },
   "file_extension": ".py",
   "mimetype": "text/x-python",
   "name": "python",
   "nbconvert_exporter": "python",
   "pygments_lexer": "ipython3",
   "version": "3.7.1"
  }
 },
 "nbformat": 4,
 "nbformat_minor": 2
}
