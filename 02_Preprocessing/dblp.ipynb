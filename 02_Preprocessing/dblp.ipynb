{
 "cells": [
  {
   "cell_type": "markdown",
   "metadata": {},
   "source": [
    "* Goal: Preprocess the dblp.xml.gz dataset downloaded from https://dblp.uni-trier.de/xml/\n",
    "* Approach: \n",
    "    - Unzip file \n",
    "    - Convert xml to JSON\n",
    "    - Convert JSON to pandas\n",
    "    - Keep only interesting rows and filter missing values\n",
    "    - Serliaze dataframe for later use"
   ]
  },
  {
   "cell_type": "markdown",
   "metadata": {},
   "source": [
    "### Open XML file containing the data"
   ]
  },
  {
   "cell_type": "code",
   "execution_count": 1,
   "metadata": {},
   "outputs": [],
   "source": [
    "import gzip\n",
    "from IPython.display import display, clear_output\n",
    "\n",
    "\n",
    "contributions_xml = gzip.open('../00_Data/dblp.xml.gz','r')"
   ]
  },
  {
   "cell_type": "markdown",
   "metadata": {},
   "source": [
    "### Convert XML file to JSON"
   ]
  },
  {
   "cell_type": "code",
   "execution_count": 2,
   "metadata": {},
   "outputs": [
    {
     "name": "stdout",
     "output_type": "stream",
     "text": [
      "Imported: 11616873\n"
     ]
    }
   ],
   "source": [
    "types = ['article','inproceedings','www','proceedings','book','incollection','phdthesis','mastersthesis','www']\n",
    "contributions =  {t:[] for t in types}\n",
    "begin = False\n",
    "\n",
    "for key,line in enumerate(contributions_xml):\n",
    "    line = str(line)\n",
    "    for t in types:\n",
    "        if '</' + t in line:\n",
    "            begin = False\n",
    "            contributions[t].append(contribution)\n",
    "            break\n",
    "    \n",
    "    if begin:\n",
    "        if '<' in line:\n",
    "            vals = line.replace('<','>').split('>')\n",
    "            vals[1] = vals[1].split(' ')[0]\n",
    "            if vals[1] in contribution:\n",
    "                contribution[vals[1]] += ', ' + vals[2]\n",
    "            else:\n",
    "                contribution[vals[1]] = vals[2]\n",
    "            \n",
    "    for t in types:\n",
    "        if '<' + t in line:\n",
    "            begin = True\n",
    "            contribution = {}\n",
    "            break\n",
    "\n",
    "    if key % 50000 == 0 and key != 0:\n",
    "        clear_output(wait=True)\n",
    "        print(\"Imported: {}\".format(sum([len(contributions[t]) for t in types])))"
   ]
  },
  {
   "cell_type": "markdown",
   "metadata": {},
   "source": [
    "### Convert JSON to pandas"
   ]
  },
  {
   "cell_type": "code",
   "execution_count": 3,
   "metadata": {},
   "outputs": [],
   "source": [
    "import pandas as pd\n",
    "\n",
    "data = []\n",
    "for t in types:\n",
    "    data.extend(contributions[t])\n",
    "\n",
    "df = pd.DataFrame.from_dict(data)"
   ]
  },
  {
   "cell_type": "markdown",
   "metadata": {},
   "source": [
    "### Keep only columns ['title','author(s)','year'] and filter data"
   ]
  },
  {
   "cell_type": "code",
   "execution_count": 4,
   "metadata": {},
   "outputs": [],
   "source": [
    "df = df[['author','title','year']].dropna()"
   ]
  },
  {
   "cell_type": "markdown",
   "metadata": {},
   "source": [
    "### Serliaze dataframe for later usage"
   ]
  },
  {
   "cell_type": "code",
   "execution_count": 5,
   "metadata": {},
   "outputs": [],
   "source": [
    "df.to_pickle('../00_Data/dblp.pickle')"
   ]
  }
 ],
 "metadata": {
  "kernelspec": {
   "display_name": "Python 3",
   "language": "python",
   "name": "python3"
  },
  "language_info": {
   "codemirror_mode": {
    "name": "ipython",
    "version": 3
   },
   "file_extension": ".py",
   "mimetype": "text/x-python",
   "name": "python",
   "nbconvert_exporter": "python",
   "pygments_lexer": "ipython3",
   "version": "3.7.1"
  }
 },
 "nbformat": 4,
 "nbformat_minor": 2
}
